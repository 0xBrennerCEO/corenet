version https://git-lfs.github.com/spec/v1
oid sha256:6509ae98e41442378987eb18de8b0ab77f89d8a4bff992fcb58aa41af47c5601
size 39795
